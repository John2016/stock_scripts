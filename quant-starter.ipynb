{
 "cells": [
  {
   "cell_type": "code",
   "execution_count": null,
   "metadata": {},
   "outputs": [],
   "source": [
    "import tushare as ts\n",
    "\n",
    "import pandas as pd\n",
    "import numpy as np\n",
    "\n",
    "import matplotlib.pyplot as plt"
   ]
  },
  {
   "cell_type": "code",
   "execution_count": null,
   "metadata": {},
   "outputs": [],
   "source": [
    "my_token = ''"
   ]
  },
  {
   "cell_type": "code",
   "execution_count": null,
   "metadata": {},
   "outputs": [],
   "source": [
    "## 01: 选股：股息率>4%，增长率>10%\n"
   ]
  },
  {
   "cell_type": "code",
   "execution_count": null,
   "metadata": {},
   "outputs": [],
   "source": [
    "## 02: 分析：普通股东ROE vs 少数股东ROE\n"
   ]
  },
  {
   "cell_type": "code",
   "execution_count": null,
   "metadata": {},
   "outputs": [],
   "source": [
    "## 03: 选股：毛利率>20%，财务费用占净利润比例小于10%\n",
    "## 来自诗与星空\n"
   ]
  },
  {
   "cell_type": "code",
   "execution_count": null,
   "metadata": {},
   "outputs": [],
   "source": [
    "## 04：分析：检验元月效应、二月效应等\n"
   ]
  },
  {
   "cell_type": "code",
   "execution_count": null,
   "metadata": {},
   "outputs": [],
   "source": [
    "## 05：分析：几个反映市场情绪的指标\n",
    "## 离岸人民币汇率、两市总成交额、上证50等各指数成分股成交额、各市场板块成交额、权重股换手率、两融余额、公募基金周募集金额等\n"
   ]
  },
  {
   "cell_type": "code",
   "execution_count": null,
   "metadata": {},
   "outputs": [],
   "source": [
    "## 06：选股：几个发现牛股的指标\n",
    "## 收现比>1、收现比>1.2、净现比>1、财务费用很少或负数、有大额银行理财、有息负债少、营收及归母利润年化35%以上增长\n"
   ]
  },
  {
   "cell_type": "code",
   "execution_count": null,
   "metadata": {},
   "outputs": [],
   "source": [
    "## 07：策略：对量化策略的评价方法\n",
    "## 应当综合考虑回撤、持续时间、最有可能买入/卖出点而非最高/最低点\n"
   ]
  },
  {
   "cell_type": "code",
   "execution_count": null,
   "metadata": {},
   "outputs": [],
   "source": [
    "## 08：策略：AH套利验证\n",
    "## 在AH溢价为负或小于某一阈值时买入A股卖出H股，否则反向操作\n"
   ]
  },
  {
   "cell_type": "code",
   "execution_count": null,
   "metadata": {},
   "outputs": [],
   "source": [
    "## 09：策略：跟随北向资金买入策略\n",
    "## 统计一段时间北向资金成交情况，做出买入/卖出操作，验证后续走势\n"
   ]
  },
  {
   "cell_type": "code",
   "execution_count": null,
   "metadata": {},
   "outputs": [],
   "source": [
    "## 10：分析：计算一只股票的北向资金滚动成本\n"
   ]
  },
  {
   "cell_type": "code",
   "execution_count": null,
   "metadata": {},
   "outputs": [],
   "source": [
    "## 11：分析：资产负债表中一些不常见项目的排序\n",
    "## 资产负债表：客户关系、品牌\n"
   ]
  },
  {
   "cell_type": "code",
   "execution_count": null,
   "metadata": {},
   "outputs": [],
   "source": [
    "## 12：公司重要岗位人员变动频度统计\n",
    "## 频度分析、岗位分析\n",
    "## 审计公司、财务总监"
   ]
  },
  {
   "cell_type": "code",
   "execution_count": null,
   "metadata": {},
   "outputs": [],
   "source": [
    "## 13：策略：东方证券-因子选股系列研究\n"
   ]
  },
  {
   "cell_type": "code",
   "execution_count": null,
   "metadata": {},
   "outputs": [],
   "source": [
    "## 14：策略：fama-french三因子模型\n"
   ]
  },
  {
   "cell_type": "code",
   "execution_count": null,
   "metadata": {},
   "outputs": [],
   "source": [
    "## 15：策略：三浪反弹理论\n"
   ]
  },
  {
   "cell_type": "code",
   "execution_count": null,
   "metadata": {},
   "outputs": [],
   "source": [
    "## 16：分析：股东坚强度分析\n",
    "## 对某只股票的操作者进行有限元分析，通过判断突发消息时的日成交量，分析当日持有者/股东的坚强/软弱者分布\n",
    "## 是一个以情绪度量的筹码系统，当然这与筹码系统中持仓成本分布有密切关系\n"
   ]
  },
  {
   "cell_type": "code",
   "execution_count": null,
   "metadata": {},
   "outputs": [],
   "source": [
    "## 17; 分析：高股息买入策略\n",
    "## 针对特定股票，在股票日k图上，将股息率大于某一阈值的部分都显示出来，直观地表示选股胜率和操作胜率\n",
    "## 进行下一步分析\n",
    "stock_list = ['贵州茅台','中国平安','中国石化','中国铝业','万科A']\n"
   ]
  }
 ],
 "metadata": {
  "kernelspec": {
   "display_name": "Python 3",
   "language": "python",
   "name": "python3"
  },
  "language_info": {
   "codemirror_mode": {
    "name": "ipython",
    "version": 3
   },
   "file_extension": ".py",
   "mimetype": "text/x-python",
   "name": "python",
   "nbconvert_exporter": "python",
   "pygments_lexer": "ipython3",
   "version": "3.6.8"
  }
 },
 "nbformat": 4,
 "nbformat_minor": 2
}
