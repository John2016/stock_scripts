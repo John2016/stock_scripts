{
 "cells": [
  {
   "cell_type": "markdown",
   "metadata": {},
   "source": [
    "Source of ideas"
   ]
  },
  {
   "cell_type": "markdown",
   "metadata": {},
   "source": [
    "## 理论\n",
    "- 东方证券-因子选股系列研究\n",
    "- fama-french 三因子模型"
   ]
  },
  {
   "cell_type": "markdown",
   "metadata": {},
   "source": [
    "## 基本面选股指标梳理\n",
    "### 成长类\n",
    "- 营收5年复合增长率\n",
    "- 分红5年复合增长率\n",
    "- eps5年复合增长率\n",
    "- roe 5年中位数、均值\n",
    "\n",
    "\n",
    "### 质量类\n",
    "- 股息率>1.5\n",
    "\n",
    "- 自由现金流\n",
    "- 股息率大于4%而增长率大于10%\n",
    "- 普通股东roe和少数股东roe的差值\n",
    "- 毛利率大于20%，财务费用占利润比例小于10%\n",
    "- 一些指标的相关关系:毛利率，净利率，负债率，roe，分红率\n",
    "- （股价--（每股现金-每股长期负债））/每股收益=真正的市盈率，真正的市盈率越低越好\n",
    "- 收益增长率+股息率）*100/市盈率=A。A最好大于1，越大越好，若小于1，这只股票就比较差\n",
    "- **货币资金/市值**，越大越好，可以考虑加入交易性金融资产、结构性存款等"
   ]
  },
  {
   "cell_type": "code",
   "execution_count": null,
   "metadata": {},
   "outputs": [],
   "source": [
    "## 可用于取得实时信息的函数\n",
    "\n",
    "\n",
    "      \n",
    "        \n",
    "        \n",
    "    \n",
    "\n",
    "\n",
    "def get_cagr5_eps(sk_list=[]):\n",
    "    \n",
    "    return \n",
    "    \n",
    "def get_cagr5_dividen(sk_list=[]):\n",
    "    \n",
    "    return\n",
    "\n",
    "def get_cagr5_revenue(sk_list=[]):\n",
    "    \n",
    "    return\n",
    "\n",
    "def get_median_roe(sk_list):\n",
    "    \n",
    "    ## get the median and mean value of ROEs in the latest 5 years\n",
    "    \n",
    "    return\n",
    "\n",
    "def get_dist_roe(sk_list):\n",
    "    \n",
    "    ## get the gap between ROEs\n",
    "    ## 用于判断明股实债风险\n",
    "    \n",
    "    return\n",
    "    \n",
    "def check_before_buy(sk_list):\n",
    "    # 底线指标\n",
    "    \n",
    "    # 01:cagr5_revenue > 10%\n",
    "    ## 设置条件鉴别cagr4，以剔除2020年异常的影响\n",
    "    \n",
    "    # 02:mean_roe > 10\n",
    "    \n",
    "    # 03:dividen-ttm/price > 0.5%\n",
    "    ## 暗含条件是30pe，15%分红率\n",
    "    \n",
    "    # 04：increase_year < 200% and increase_month < 100%\n",
    "    ## 排除短期涨幅过大的股票\n",
    "    \n",
    "    return"
   ]
  },
  {
   "cell_type": "code",
   "execution_count": null,
   "metadata": {},
   "outputs": [],
   "source": [
    "## functions、 factors、 APIs\n",
    "\n",
    "#获取股票510300.XSHG2015年1月的日级交易数据\n",
    "df = get_price('510300.XSHG', start_date='2014-01-01', end_date='2015-01-31', frequency='daily', fields=['open','close']) \n",
    "df"
   ]
  },
  {
   "cell_type": "code",
   "execution_count": 4,
   "metadata": {},
   "outputs": [
    {
     "data": {
      "text/html": [
       "<div>\n",
       "<style scoped>\n",
       "    .dataframe tbody tr th:only-of-type {\n",
       "        vertical-align: middle;\n",
       "    }\n",
       "\n",
       "    .dataframe tbody tr th {\n",
       "        vertical-align: top;\n",
       "    }\n",
       "\n",
       "    .dataframe thead th {\n",
       "        text-align: right;\n",
       "    }\n",
       "</style>\n",
       "<table border=\"1\" class=\"dataframe\">\n",
       "  <thead>\n",
       "    <tr style=\"text-align: right;\">\n",
       "      <th>code</th>\n",
       "      <th>000001.XSHE</th>\n",
       "    </tr>\n",
       "  </thead>\n",
       "  <tbody>\n",
       "    <tr>\n",
       "      <th>2017-01-03</th>\n",
       "      <td>0.115241</td>\n",
       "    </tr>\n",
       "    <tr>\n",
       "      <th>2017-03-17</th>\n",
       "      <td>0.111782</td>\n",
       "    </tr>\n",
       "    <tr>\n",
       "      <th>2017-04-24</th>\n",
       "      <td>0.109402</td>\n",
       "    </tr>\n",
       "    <tr>\n",
       "      <th>2017-08-11</th>\n",
       "      <td>0.108113</td>\n",
       "    </tr>\n",
       "    <tr>\n",
       "      <th>2017-10-23</th>\n",
       "      <td>0.105602</td>\n",
       "    </tr>\n",
       "    <tr>\n",
       "      <th>2018-03-15</th>\n",
       "      <td>0.104430</td>\n",
       "    </tr>\n",
       "    <tr>\n",
       "      <th>2018-04-20</th>\n",
       "      <td>0.105510</td>\n",
       "    </tr>\n",
       "    <tr>\n",
       "      <th>2018-08-16</th>\n",
       "      <td>0.105229</td>\n",
       "    </tr>\n",
       "    <tr>\n",
       "      <th>2018-10-24</th>\n",
       "      <td>0.104119</td>\n",
       "    </tr>\n",
       "    <tr>\n",
       "      <th>2019-03-07</th>\n",
       "      <td>0.103390</td>\n",
       "    </tr>\n",
       "    <tr>\n",
       "      <th>2019-04-24</th>\n",
       "      <td>0.102292</td>\n",
       "    </tr>\n",
       "    <tr>\n",
       "      <th>2019-08-08</th>\n",
       "      <td>0.104632</td>\n",
       "    </tr>\n",
       "    <tr>\n",
       "      <th>2019-10-22</th>\n",
       "      <td>0.097139</td>\n",
       "    </tr>\n",
       "    <tr>\n",
       "      <th>2020-02-14</th>\n",
       "      <td>0.090085</td>\n",
       "    </tr>\n",
       "  </tbody>\n",
       "</table>\n",
       "</div>"
      ],
      "text/plain": [
       "code        000001.XSHE\n",
       "2017-01-03     0.115241\n",
       "2017-03-17     0.111782\n",
       "2017-04-24     0.109402\n",
       "2017-08-11     0.108113\n",
       "2017-10-23     0.105602\n",
       "2018-03-15     0.104430\n",
       "2018-04-20     0.105510\n",
       "2018-08-16     0.105229\n",
       "2018-10-24     0.104119\n",
       "2019-03-07     0.103390\n",
       "2019-04-24     0.102292\n",
       "2019-08-08     0.104632\n",
       "2019-10-22     0.097139\n",
       "2020-02-14     0.090085"
      ]
     },
     "execution_count": 4,
     "metadata": {},
     "output_type": "execute_result"
    }
   ],
   "source": [
    "## for test\n",
    "from jqfactor import *\n",
    "\n",
    "factor_data = get_factor_values(securities=['000001.XSHE'], factors=['roe_ttm','roa_ttm'], start_date='2017-01-01', end_date='2020-03-04')\n",
    "# 查看因子值\n",
    "factor_data['roe_ttm'].drop_duplicates()"
   ]
  },
  {
   "cell_type": "code",
   "execution_count": 4,
   "metadata": {},
   "outputs": [
    {
     "data": {
      "text/plain": [
       "array([[1.0, 0.9827076298239908],\n",
       "       [0.9827076298239908, 1.0]])"
      ]
     },
     "execution_count": 4,
     "metadata": {},
     "output_type": "execute_result"
    }
   ],
   "source": [
    "import numpy as np\n",
    "\n",
    "aa = [1,2,3,4]\n",
    "bb = [2,3,4,6]\n",
    "np.corrcoef(aa,bb)"
   ]
  },
  {
   "cell_type": "code",
   "execution_count": null,
   "metadata": {},
   "outputs": [],
   "source": [
    "money = [156, 306, 142, 113]\n",
    "year = [10, 5, 2, 1]\n",
    "thresh = [0.03,0.20]\n",
    "\n",
    "## 给定上市公司再融资记录（包括金额和时间），根据当前市值估算再融资资金的年化收益率\n",
    "## 未考虑企业上市前自身净资产，所以估计的roe偏大\n",
    "## 未来自动获取企业再融资记录\n",
    "def roe_esti(money, year, thresh):\n",
    "    while():\n",
    "        roe = mean(thresh)\n",
    "        print(roe)\n",
    "        tmp = 0\n",
    "        for ii in range(4):\n",
    "            tmp += money[ii]*((1+roe)**year[ii])\n",
    "        #sub = tmp - 1600\n",
    "        if abs(tmp-1600) < 50:\n",
    "            print(tmp-1600)\n",
    "            break\n",
    "\n",
    "        if tmp > 1600:\n",
    "            thresh[1] = roe\n",
    "        else:\n",
    "            thresh[0] = roe\n",
    "    \n",
    "    return(tmp)\n"
   ]
  },
  {
   "cell_type": "markdown",
   "metadata": {},
   "source": [
    "## A 统计分析\n",
    "- A1 持仓组合整体多样性分析\n",
    "  - 持仓股票对儿间相似性评价（手动）\n",
    "- A2 g-score && f-score\n",
    "- A3 全市场成交额，与扣除前20（茅20）股票成交额的趋势变化\n",
    "- A4 统计当前市场各pe分段对应公司过去5年复合增长率，制作未来五年pe预测\n",
    "  - 假设这些公司未来5年或10年仍维持过去5年复合增长率，其pe值变化情况\n",
    "  - 最终得出每一年最低pe股票对应的初始pe\n",
    "- A5 统计全市场公司过去5年，营收复合增长速度，归母利润复合增长速度间的相关性"
   ]
  },
  {
   "cell_type": "code",
   "execution_count": null,
   "metadata": {},
   "outputs": [],
   "source": [
    "## A3\n",
    "## Done"
   ]
  },
  {
   "cell_type": "code",
   "execution_count": null,
   "metadata": {},
   "outputs": [],
   "source": [
    "## A4"
   ]
  },
  {
   "cell_type": "code",
   "execution_count": null,
   "metadata": {},
   "outputs": [],
   "source": [
    "## A5\n",
    "\n",
    "def rel_rev_nprof(index = '', years = 5):\n",
    "    \n",
    "    # get the stock list of specified index \n",
    "    \n",
    "    # drop invalid according to years \n",
    "    \n",
    "    # get the revenue of start-year and end-year\n",
    "    \n",
    "    # get the bet-profit of start-year and end-year\n",
    "    \n",
    "    # calculate the relevence between rates of the specified index\n",
    "    \n",
    "    return"
   ]
  },
  {
   "cell_type": "code",
   "execution_count": 16,
   "metadata": {},
   "outputs": [
    {
     "data": {
      "text/plain": [
       "3995"
      ]
     },
     "execution_count": 16,
     "metadata": {},
     "output_type": "execute_result"
    }
   ],
   "source": [
    "stocks = get_index_stocks('000001.XSHG')+get_index_stocks('399106.XSHE')\n",
    "len(stocks)\n",
    "\n",
    "tmp = get_index_weights('000001.XSHG')\n",
    "tmp.sort_values(by = 'weight',ascending=False)"
   ]
  },
  {
   "cell_type": "markdown",
   "metadata": {},
   "source": [
    "## ROE及子指标分布范围\n",
    "\n",
    "ROE是评价公司质量效率最高的因子。相比于企业的利润增长幅度，ROE指标更加稳定，且更接近公司创造价值的本质。\n",
    "\n",
    "因为有一些企业依靠增发来获得更高的利润增速，这样的增速既不能等同于原股东权益的增速，又不可持续。\n",
    "\n",
    "正常来讲，公司的归母利润增速应该为\n",
    "> ROE * (1 - 分红率) \n",
    "\n",
    "当出现增发等情况时，应该更改为\n",
    "> ROE * (净资本扩大系数)\n",
    "\n",
    "当然这只是一个粗略的计算，会计准则上对净资产还有若干种处理方法\n",
    "\n",
    "如果公司利润出现了暴增，那么有几种可能：\n",
    "1. ROE剧增\n",
    "2. 净资产扩大\n",
    "由于是相乘的关系，所以当2项同时增加时，增速会表现为暴增\n",
    "\n",
    "这里就统计全A公司，20年来，各年度ROE的分布情况，以及所有公司20年间的平均ROE分布情况。所得到的统计结果能用于判断，我们是否对某些公司的未来发展寄予了过高的期望。\n",
    "\n",
    "之后对ROE进行更深入的分析，ROE可以拆解为3个指标\n",
    "> ROE = 周转率 * 净利率 * 杠杆率\n",
    "\n",
    "这3个指标都与企业的经营息息相关，按照我的理解，周转率主要与需求和运行效率有关，净利率同样，杠杆率影响企业生产力\n",
    "\n",
    "在企业的正常经营过程中，这3个指标也不太会突变，如果突变，一定是有大事件影响，所以我们对这3个指标也进行逐一分析\n",
    "\n",
    "\n",
    "最后选择历史上最高的ROE之一来看看"
   ]
  },
  {
   "cell_type": "code",
   "execution_count": null,
   "metadata": {},
   "outputs": [],
   "source": [
    "from jqfactor import get_factor_values\n",
    "from jqdata import  get_trade_days\n",
    "import numpy as np\n",
    "\n",
    "# 对factor因子过去20年按年度的指标进行统计分析\n",
    "def stas_factor(factor, report = 'year', num = 20):\n",
    "    \n",
    "    security = get_all_securities()\n",
    "    \n",
    "    factor_list = []\n",
    "    max_factor = []\n",
    "    \n",
    "    for ii in np.arange(2001, 2021, 1):\n",
    "        # 选择年报公布截止日后15天\n",
    "        date = str(ii) + '-5-15'\n",
    "        date = get_trade_days(end_date = date, count = 1)\n",
    "        # roe_ttm, net_profit_ratio， 1/equity_to_asset_ratio， total_asset_turnover_rate\n",
    "        factor_data = get_factor_values(securities=security, factors=factor,\n",
    "                                        start_date=date, end_date=date)\n",
    "        fac_values = factor_data[factor]\n",
    "\n",
    "for ff in ['roe','']"
   ]
  },
  {
   "cell_type": "code",
   "execution_count": 15,
   "metadata": {},
   "outputs": [
    {
     "data": {
      "text/plain": [
       "array([2021-05-10], dtype=object)"
      ]
     },
     "execution_count": 15,
     "metadata": {},
     "output_type": "execute_result"
    }
   ],
   "source": []
  },
  {
   "cell_type": "code",
   "execution_count": 16,
   "metadata": {},
   "outputs": [
    {
     "data": {
      "text/plain": [
       "{'roe_ttm': code        000001.XSHE  000002.XSHE\n",
       " 2021-05-06     0.081886     0.184125}"
      ]
     },
     "execution_count": 16,
     "metadata": {},
     "output_type": "execute_result"
    }
   ],
   "source": [
    "from jqfactor import get_factor_values\n",
    "\n",
    "fac = 'roe_ttm'\n",
    "\n",
    "aaa = get_factor_values(securities=['000001.XSHE','000002.XSHE'], factors=[\n",
    "                fac],\n",
    "                                        start_date='2021-5-6', end_date='2021-5-6')\n",
    "aaa"
   ]
  },
  {
   "cell_type": "code",
   "execution_count": 17,
   "metadata": {},
   "outputs": [
    {
     "data": {
      "text/html": [
       "<div>\n",
       "<style scoped>\n",
       "    .dataframe tbody tr th:only-of-type {\n",
       "        vertical-align: middle;\n",
       "    }\n",
       "\n",
       "    .dataframe tbody tr th {\n",
       "        vertical-align: top;\n",
       "    }\n",
       "\n",
       "    .dataframe thead th {\n",
       "        text-align: right;\n",
       "    }\n",
       "</style>\n",
       "<table border=\"1\" class=\"dataframe\">\n",
       "  <thead>\n",
       "    <tr style=\"text-align: right;\">\n",
       "      <th>code</th>\n",
       "      <th>000001.XSHE</th>\n",
       "      <th>000002.XSHE</th>\n",
       "    </tr>\n",
       "  </thead>\n",
       "  <tbody>\n",
       "    <tr>\n",
       "      <th>2021-05-06</th>\n",
       "      <td>0.081886</td>\n",
       "      <td>0.184125</td>\n",
       "    </tr>\n",
       "  </tbody>\n",
       "</table>\n",
       "</div>"
      ],
      "text/plain": [
       "code        000001.XSHE  000002.XSHE\n",
       "2021-05-06     0.081886     0.184125"
      ]
     },
     "execution_count": 17,
     "metadata": {},
     "output_type": "execute_result"
    }
   ],
   "source": [
    "aaa[fac]"
   ]
  },
  {
   "cell_type": "code",
   "execution_count": 8,
   "metadata": {},
   "outputs": [
    {
     "data": {
      "text/html": [
       "<div>\n",
       "<style scoped>\n",
       "    .dataframe tbody tr th:only-of-type {\n",
       "        vertical-align: middle;\n",
       "    }\n",
       "\n",
       "    .dataframe tbody tr th {\n",
       "        vertical-align: top;\n",
       "    }\n",
       "\n",
       "    .dataframe thead th {\n",
       "        text-align: right;\n",
       "    }\n",
       "</style>\n",
       "<table border=\"1\" class=\"dataframe\">\n",
       "  <thead>\n",
       "    <tr style=\"text-align: right;\">\n",
       "      <th>code</th>\n",
       "      <th>000001.XSHE</th>\n",
       "      <th>000002.XSHE</th>\n",
       "    </tr>\n",
       "  </thead>\n",
       "  <tbody>\n",
       "    <tr>\n",
       "      <th>2021-05-06</th>\n",
       "      <td>0.03442</td>\n",
       "      <td>0.227271</td>\n",
       "    </tr>\n",
       "  </tbody>\n",
       "</table>\n",
       "</div>"
      ],
      "text/plain": [
       "code        000001.XSHE  000002.XSHE\n",
       "2021-05-06      0.03442     0.227271"
      ]
     },
     "execution_count": 8,
     "metadata": {},
     "output_type": "execute_result"
    }
   ],
   "source": [
    "aaa['total_asset_turnover_rate']"
   ]
  },
  {
   "cell_type": "code",
   "execution_count": 10,
   "metadata": {},
   "outputs": [
    {
     "data": {
      "text/plain": [
       "0.08188489359613166"
      ]
     },
     "execution_count": 10,
     "metadata": {},
     "output_type": "execute_result"
    }
   ],
   "source": [
    "0.03442 * (1/0.081482) * 0.193845"
   ]
  },
  {
   "cell_type": "markdown",
   "metadata": {},
   "source": [
    "---------------------------------------------END 毫无用处 --------------------------------------------------------"
   ]
  },
  {
   "cell_type": "markdown",
   "metadata": {},
   "source": [
    "## 技术面想法\n",
    "- 横盘期择机买入，突破后按均线操作\n",
    "- 港资对某一只股票的滚动买入成本\n",
    "- 股东人数变化与当期涨跌幅的关系，股价涨跌幅与披露后下一期涨跌幅关系\n",
    "- 元月效应，二月效应，等等\n",
    "- 新股第一阶段底部与其估值的关系\n",
    "- 连续多个长上影线半个月内的走势是不是会下降\n",
    "- 追踪明星机构新进持仓，在现价低于计算其持仓价格时买入，在现价高于其计算清仓价格时卖出\n",
    "- 技术面上一些值得关注的现象\n",
    "- 下跌过程中进入横盘\n",
    "- 下跌过程中放出巨量\n",
    "- 连续多日，上涨时放量下跌缩量\n",
    "- 上涨初期，连续三日逐渐放量"
   ]
  },
  {
   "cell_type": "markdown",
   "metadata": {},
   "source": []
  },
  {
   "cell_type": "code",
   "execution_count": null,
   "metadata": {},
   "outputs": [],
   "source": []
  },
  {
   "cell_type": "code",
   "execution_count": 4,
   "metadata": {},
   "outputs": [
    {
     "data": {
      "text/html": [
       "<div>\n",
       "<style scoped>\n",
       "    .dataframe tbody tr th:only-of-type {\n",
       "        vertical-align: middle;\n",
       "    }\n",
       "\n",
       "    .dataframe tbody tr th {\n",
       "        vertical-align: top;\n",
       "    }\n",
       "\n",
       "    .dataframe thead th {\n",
       "        text-align: right;\n",
       "    }\n",
       "</style>\n",
       "<table border=\"1\" class=\"dataframe\">\n",
       "  <thead>\n",
       "    <tr style=\"text-align: right;\">\n",
       "      <th></th>\n",
       "      <th>time</th>\n",
       "      <th>code</th>\n",
       "      <th>open</th>\n",
       "      <th>close</th>\n",
       "    </tr>\n",
       "  </thead>\n",
       "  <tbody>\n",
       "    <tr>\n",
       "      <th>0</th>\n",
       "      <td>2015-12-01</td>\n",
       "      <td>000001.XSHE</td>\n",
       "      <td>9.00</td>\n",
       "      <td>9.04</td>\n",
       "    </tr>\n",
       "    <tr>\n",
       "      <th>1</th>\n",
       "      <td>2015-12-02</td>\n",
       "      <td>000001.XSHE</td>\n",
       "      <td>9.00</td>\n",
       "      <td>9.63</td>\n",
       "    </tr>\n",
       "    <tr>\n",
       "      <th>2</th>\n",
       "      <td>2015-12-01</td>\n",
       "      <td>000002.XSHE</td>\n",
       "      <td>12.41</td>\n",
       "      <td>13.73</td>\n",
       "    </tr>\n",
       "    <tr>\n",
       "      <th>3</th>\n",
       "      <td>2015-12-02</td>\n",
       "      <td>000002.XSHE</td>\n",
       "      <td>13.81</td>\n",
       "      <td>15.10</td>\n",
       "    </tr>\n",
       "  </tbody>\n",
       "</table>\n",
       "</div>"
      ],
      "text/plain": [
       "        time         code   open  close\n",
       "0 2015-12-01  000001.XSHE   9.00   9.04\n",
       "1 2015-12-02  000001.XSHE   9.00   9.63\n",
       "2 2015-12-01  000002.XSHE  12.41  13.73\n",
       "3 2015-12-02  000002.XSHE  13.81  15.10"
      ]
     },
     "execution_count": 4,
     "metadata": {},
     "output_type": "execute_result"
    }
   ],
   "source": [
    "df = get_price(['000001.XSHE','000002.XSHE'], start_date='2015-12-01 14:00:00', end_date='2015-12-02 12:00:00', frequency='daily',fields=['open','close'],panel=False)\n",
    "df"
   ]
  },
  {
   "cell_type": "code",
   "execution_count": 15,
   "metadata": {},
   "outputs": [
    {
     "data": {
      "text/plain": [
       "datetime.datetime(2021, 7, 17, 20, 15, 51, 66867)"
      ]
     },
     "execution_count": 15,
     "metadata": {},
     "output_type": "execute_result"
    }
   ],
   "source": [
    "date = datetime.datetime.now()\n",
    "start_date = date + datetime.timedelta(-1)\n",
    "\n",
    "start_date\n"
   ]
  },
  {
   "cell_type": "markdown",
   "metadata": {},
   "source": [
    "## 套利\n",
    "- AH套利验证\n",
    "- 搬砖策略"
   ]
  },
  {
   "cell_type": "markdown",
   "metadata": {},
   "source": [
    "## 宏观与大盘\n",
    "- 在我们团队内部，一般会关注以下几个反映市场情绪的指标：离岸人民币的汇率；两市总的交易量；上证50、沪深300、中小板、创业板、科创板的成交量；权重股的换手率；两融余额；公募基金的周募集金额等等。"
   ]
  },
  {
   "cell_type": "markdown",
   "metadata": {},
   "source": [
    "## 其它\n",
    "- 在今天信用债市场冲击金融股的时候，我们应该提前根据质押，保荐，承销等关系，构建各上市公司，大型集团与重要金融机构间的关系，并判定各金融机构的风险大小\n",
    "- 股权激励次数，指标，规模统计排序\n",
    "- 股东及董监高增减持行为及价格统计\n",
    "- 员工年龄结构\n",
    "- 计算稳定性的函数，用于计算可以长期参考的锚\n",
    "- 将交易者化为有限元，量化其“坚强”程度，应对消息上的突变，类似于一个更复杂的筹码系统\n",
    "- 股票日k图上，将股息率大于某一个指标的部分都显示出来，直观表示胜率\n",
    "- 资产负债表中有客户关系作为无形资产的公司，关注财务方面人员\n",
    "- 高管变动最小的公司，近期变动大的公司"
   ]
  },
  {
   "cell_type": "markdown",
   "metadata": {},
   "source": [
    "\n",
    "\n",
    "\n",
    "- 存货增长，应收增长与营收增长的匹配度"
   ]
  },
  {
   "cell_type": "markdown",
   "metadata": {},
   "source": [
    "## 量化方法评价方法\n",
    "- 聚宽指标评价：收益率、复合收益率、夏普、剔除风格影响等\n",
    "- 其它指标：最大回撤、换手率等\n",
    "- 在符合条件的股票中，采用最大n值与随机挑选n个来同时回测，可以观察策略的具体贡献来源\n",
    "- more"
   ]
  },
  {
   "cell_type": "markdown",
   "metadata": {},
   "source": [
    "量化\n"
   ]
  }
 ],
 "metadata": {
  "kernelspec": {
   "display_name": "Python 3",
   "language": "python",
   "name": "python3"
  },
  "language_info": {
   "codemirror_mode": {
    "name": "ipython",
    "version": 3
   },
   "file_extension": ".py",
   "mimetype": "text/x-python",
   "name": "python",
   "nbconvert_exporter": "python",
   "pygments_lexer": "ipython3",
   "version": "3.6.7"
  },
  "toc": {
   "base_numbering": 1,
   "nav_menu": {},
   "number_sections": false,
   "sideBar": true,
   "skip_h1_title": false,
   "title_cell": "MarkDown菜单",
   "title_sidebar": "Contents",
   "toc_cell": false,
   "toc_position": {},
   "toc_section_display": true,
   "toc_window_display": false
  }
 },
 "nbformat": 4,
 "nbformat_minor": 2
}
