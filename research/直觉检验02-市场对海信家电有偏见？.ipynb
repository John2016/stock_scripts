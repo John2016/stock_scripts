{
 "cells": [
  {
   "cell_type": "markdown",
   "metadata": {},
   "source": [
    "## 偏见发现\n",
    "\n",
    "### 想法来源\n",
    "\n",
    "在持有海信家电的过程中，直觉上感到，市场每次对海信家电的财报预期都不好，但是出财报之后常常能超预期并迎来上涨，也就是市场可能对它<b>存在偏见</b>。最近又出现了这种情况。\n",
    "\n",
    "但是直觉不靠谱，需要用数字检验。\n",
    "\n",
    "### 检验定义\n",
    "对给定股票，统计其在过往8次发财报，前后15天、30天内的涨跌幅，观察是否有规律。\n",
    "\n",
    "8次一般对应2年时间，毕竟如果真有这种规律，也不可能持续太长时间。15天和30天的选择也是基于类似考虑，毕竟一般2次财报之间的间隔才3个月。"
   ]
  },
  {
   "cell_type": "code",
   "execution_count": 1,
   "metadata": {},
   "outputs": [],
   "source": [
    "import pandas as pd\n",
    "\n",
    "\n",
    "def get_price_d(security, date):\n",
    "    price = pd.DataFrame()\n",
    "    while price.shape[0] == 0:\n",
    "        # print(date)\n",
    "        ## 这里有个问题，获取的收盘价跟东财不一致，7月的是一致的，但5月就不一致了\n",
    "        price = get_price(security, start_date=date, end_date=date, frequency='daily', fields=['close'], skip_paused=False, fq='pre', panel=False)\n",
    "        date = date + datetime.timedelta(-1)\n",
    "    return(price.iloc[0,0])\n",
    "\n",
    "def cal_ratio(price_1, price_2):\n",
    "    return (price_2 - price_1) / price_1\n",
    "\n",
    "\n",
    "def observe_bias(stock, date_report, interval):\n",
    "    \n",
    "    ratio_matrix = []\n",
    "    for date in date_report:\n",
    "        # 未找到日历函数，选择麻烦的方法\n",
    "        prices = []\n",
    "        \n",
    "        date_1 = datetime.datetime.strptime(date, '%Y-%m-%d')\n",
    "        date_start = date_1 + datetime.timedelta(-interval)\n",
    "        date_end = date_1 + datetime.timedelta(interval)\n",
    "        for dd in [date_start, date_1, date_end]:\n",
    "            price = get_price_d(stock, dd)\n",
    "            # print(price)\n",
    "            prices.append(price)\n",
    "        \n",
    "        ratio = [cal_ratio(prices[0], prices[1]), cal_ratio(prices[1], prices[2])] \n",
    "        ratio_matrix.append(ratio)\n",
    "        \n",
    "    return ratio_matrix"
   ]
  },
  {
   "cell_type": "code",
   "execution_count": 73,
   "metadata": {},
   "outputs": [],
   "source": [
    "def get_report_time(security):\n",
    "    if not (security[0:2] in ['00','30','60','68']):\n",
    "        return None\n",
    "    # 周期两年\n",
    "#     end_date = datetime.datetime.now()\n",
    "#     start_date = end_date + datetime.timedelta(-366 * 2)\n",
    "#     print(start_date, end_date)\n",
    "    \n",
    "    date_list = []\n",
    "    years = ['2019','2020','2021']\n",
    "    for year in years:\n",
    "        for ii in np.arange(1,5,1):\n",
    "            date_list.append(year+'q'+str(ii))\n",
    "    del date_list[-3:]\n",
    "    del date_list[0]\n",
    "    \n",
    "    time_list = []\n",
    "    for date in date_list:\n",
    "        q = query(income.code, income.pubDate).filter(\n",
    "            income.code == security).limit(3000)\n",
    "        df = get_fundamentals(q, statDate=date)\n",
    "        df = df.iloc[0,1]\n",
    "        # df = df['pubDate'].drop_duplicates().values.tolist()\n",
    "        time_list.append(df)\n",
    "        \n",
    "    return time_list                                       "
   ]
  },
  {
   "cell_type": "code",
   "execution_count": 58,
   "metadata": {},
   "outputs": [],
   "source": [
    "stock = '000921.XSHE'\n",
    "index = '399001.XSHE'\n",
    "\n",
    "# 对其它股票，用函数get_report_time()获取时间列表\n",
    "date = ['2019-8-23','2019-10-29','2020-4-15','2020-4-29','2020-8-21','2020-10-29','2021-3-31','2021-4-29']\n",
    "\n",
    "# 记得修改时间间隔\n",
    "rate_secu = observe_bias(stock, date, 15)\n",
    "rate_index = observe_bias(index, date, 15)"
   ]
  },
  {
   "cell_type": "code",
   "execution_count": 3,
   "metadata": {},
   "outputs": [
    {
     "name": "stdout",
     "output_type": "stream",
     "text": [
      "平均超额收益：    -0.0033955201482623243\n"
     ]
    }
   ],
   "source": [
    "# 平均超额收益\n",
    "car = 0\n",
    "for ii in range(len(rate_secu)):\n",
    "    car += (rate_secu[ii][1] - rate_index[ii][1])\n",
    "car /= (len(rate_secu))\n",
    "print(\"平均超额收益：   \", car/(len(rate_secu) ))\n",
    "# '000001.XSHG'"
   ]
  },
  {
   "cell_type": "code",
   "execution_count": 4,
   "metadata": {},
   "outputs": [
    {
     "name": "stdout",
     "output_type": "stream",
     "text": [
      "-0.11235803506574697 0.4073889096583994 -0.3171160448284253\n"
     ]
    }
   ],
   "source": [
    "# pearson\n",
    "rate_secu_n = np.array(rate_secu)\n",
    "rate_index_n = np.array(rate_index)\n",
    "\n",
    "corr_self = np.corrcoef(rate_secu_n[:,0], rate_secu_n[:,1])\n",
    "corr_index_after = np.corrcoef(rate_secu_n[:,1], rate_index_n[:,1])\n",
    "corr_index_before = np.corrcoef(rate_secu_n[:,0], rate_index_n[:,0])\n",
    "\n",
    "print(corr_self[0,1], corr_index_after[0,1], corr_index_before[0,1])"
   ]
  },
  {
   "cell_type": "markdown",
   "metadata": {},
   "source": [
    "### 分析\n",
    "1. 平均超额收益\n",
    "    - 后15天平均超额收益：    -0.0033955201482623243\n",
    "    - 后30天平均超额收益：    -0.002588250391463465\n",
    "2. 与大盘走势相关性/假设检验，例如pearson相关系数\n",
    "    - 后15天股票走势与前15天相关系数-0.11，与大盘走势相关0.4，算是有一点点特征，但也毫无用处\n",
    "    - 后30天股票走势与前30天的相关性，后30天股票走势与大盘的相关性，都大约是0.3，不能说明任何问题\n",
    "3. 绘制并列直方图\n",
    "    - 算了，懒得画了\n",
    "    \n",
    "### 总结\n",
    "所谓直觉，都是一厢情愿，数字统计表明，没什么关系\n",
    "\n",
    "未来也许可以查看其它股票是否长期存在财报后稳定上涨的情况，也能检验机构们对这只股票的研究深度"
   ]
  }
 ],
 "metadata": {
  "kernelspec": {
   "display_name": "Python 3",
   "language": "python",
   "name": "python3"
  },
  "language_info": {
   "codemirror_mode": {
    "name": "ipython",
    "version": 3
   },
   "file_extension": ".py",
   "mimetype": "text/x-python",
   "name": "python",
   "nbconvert_exporter": "python",
   "pygments_lexer": "ipython3",
   "version": "3.6.7"
  },
  "toc": {
   "base_numbering": 1,
   "nav_menu": {},
   "number_sections": false,
   "sideBar": true,
   "skip_h1_title": false,
   "title_cell": "MarkDown菜单",
   "title_sidebar": "Contents",
   "toc_cell": false,
   "toc_position": {},
   "toc_section_display": true,
   "toc_window_display": false
  }
 },
 "nbformat": 4,
 "nbformat_minor": 2
}
