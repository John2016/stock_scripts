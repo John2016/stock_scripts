{
 "cells": [
  {
   "cell_type": "markdown",
   "metadata": {},
   "source": [
    "## ROE指标\n",
    "\n",
    "ROE是评价公司质量效率最高的因子。相比于企业的利润增长幅度，ROE指标更加稳定，且更接近公司创造价值的本质。\n",
    "\n",
    "\n",
    "正常来讲，公司的归母利润增速应该为\n",
    "> ROE * (1 - 分红率) \n",
    "\n",
    "当出现增发等情况时，应该更改为\n",
    "> ROE * (净资本扩大系数)\n",
    "\n",
    "当然这只是一个粗略的计算，会计准则上对净资产还有若干种处理方法\n",
    "\n",
    "如果公司利润出现了暴增，那么有几种可能：\n",
    "1. ROE剧增\n",
    "2. 净资产扩大\n",
    "由于是相乘的关系，所以当2项同时增加时，增速会表现为暴增\n",
    "\n",
    "\n",
    "之后对ROE进行更深入的分析，ROE可以拆解为3个指标\n",
    "> ROE = 周转率 * 净利率 * 杠杆率\n",
    "\n",
    "这3个指标都与企业的经营息息相关，按照我的理解，周转率主要与需求和运行效率有关，净利率同样，杠杆率影响企业生产力\n",
    "\n",
    "在企业的正常经营过程中，这3个指标也不太会突变，如果突变，一定是有大事件影响，所以我们对这3个指标也进行逐一分析\n",
    "\n",
    "\n",
    "最后选择历史上最高的ROE之一来看看"
   ]
  },
  {
   "cell_type": "markdown",
   "metadata": {},
   "source": [
    "### 做这个研究的目的\n",
    "\n",
    "因为有一些企业依靠增发来获得更高的利润增速，这样的增速既不能等同于原股东权益的增速，又不可持续。\n",
    "\n",
    "这里就统计全A公司，20年来，各年度ROE的分布情况，以及所有公司20年间的平均ROE分布情况。所得到的统计结果能用于判断，我们是否对某些公司的未来发展寄予了过高的期望。\n"
   ]
  },
  {
   "cell_type": "code",
   "execution_count": null,
   "metadata": {},
   "outputs": [],
   "source": [
    "from jqfactor import get_factor_values\n",
    "from jqdata import  get_trade_days\n",
    "import numpy as np\n",
    "\n",
    "# 对factor因子过去15年按年度的指标进行统计分析\n",
    "def stas_factor(factor, report = 'year', num = 15):\n",
    "    \n",
    "    # 当前security数量为4539，超过3000上限，所以分为2部分\n",
    "    security = get_all_securities().index.tolist()\n",
    "    security_1 = security[0:3000]\n",
    "    security_2 = security[3000:]\n",
    "    \n",
    "    factor_list = []\n",
    "    max_factor = []\n",
    "    \n",
    "    for ii in np.arange(2006, 2021, 1):\n",
    "        # 选择年报公布截止日后15天\n",
    "        date = str(ii) + '-5-15'\n",
    "        date = get_trade_days(end_date = date, count = 1)[0]\n",
    "        \n",
    "        fac_values = pd.DataFrame()\n",
    "        for security in [security_1, security_2]:\n",
    "            # roe_ttm, net_profit_ratio， 1/equity_to_asset_ratio， total_asset_turnover_rate\n",
    "            fac_values_t = get_factor_values(securities=security, factors=factor,\n",
    "                                            start_date=date, end_date=date)\n",
    "            # col_name: securities, row_name: date\n",
    "            fac_values_t = fac_values_t[factor]\n",
    "            # assert fac_values.shape[0] == 1\n",
    "            fac_values = pd.concat([fac_values, fac_values_t], axis = 1)\n",
    "\n",
    "            # 获取每一年的最大指标，注意要对因子取倒数得到杠杆率\n",
    "            # for index, row in fac_values.iterrows():\n",
    "        if not factor == 'equity_to_asset_ratio':\n",
    "            max_factor.append( [date, fac_values.idxmax(axis=1), fac_values.max(axis=1)] )\n",
    "            tmp = 1/np.array(fac_values.iloc[0:,].dropna().tolist())\n",
    "            factor_list += tmp.tolist()\n",
    "        else:\n",
    "            max_factor.append( [date, fac_values.idxmin(axis=1), 1 / fac_values.min(axis=1)] )\n",
    "            factor_list += fac_values.iloc[0,:].dropna().tolist()\n",
    "\n",
    "        # print('number of valid factor: ', date, fac_values.iloc[0,:].dropna().tolist())\n",
    "\n",
    "    return [factor_list, max_factor]"
   ]
  },
  {
   "cell_type": "code",
   "execution_count": null,
   "metadata": {},
   "outputs": [],
   "source": [
    "%%time\n",
    "\n",
    "import pandas as pd\n",
    "import numpy as np\n",
    "\n",
    "# ROE，净利润率，权益资产比，总资产周转率\n",
    "fac_list = ['roe_ttm', 'net_profit_ratio', 'equity_to_asset_ratio', 'total_asset_turnover_rate']\n",
    "\n",
    "values_list = {}\n",
    "maxv_list = {}\n",
    "\n",
    "for factor in fac_list:\n",
    "    [fac_values, max_fac] = stas_factor(factor)\n",
    "    values_list[factor] = fac_values\n",
    "    maxv_list[factor] = max_fac\n"
   ]
  },
  {
   "cell_type": "markdown",
   "metadata": {},
   "source": [
    "### 结果说明\n",
    "两个变量：\n",
    "\n",
    "- values_list: 每个指标在过去15年，所有股票的年度值的列表，用于后续统计分析\n",
    "- maxv_list： 每个指标，每年最大值对应的股票代码，用于特例分析"
   ]
  },
  {
   "cell_type": "code",
   "execution_count": null,
   "metadata": {},
   "outputs": [],
   "source": [
    "def analysis_fac(values_list):\n",
    "    \n",
    "    # 注意不要提前定义名字，否则在concat操作时会对比改名字与tmp变量的列名，导致无法比较错误\n",
    "    result = pd.DataFrame()\n",
    "    # 构造最大、最小、平均、中位、上四分位值\n",
    "    for fac in values_list:\n",
    "        df_tmp = pd.DataFrame([[fac, np.max(values_list[fac]), np.min(values_list[fac]), np.median(values_list[fac]),\n",
    "                                np.percentile(values_list[fac], 75), np.percentile(values_list[fac], 95)]])\n",
    "        result = pd.concat([result, df_tmp], axis = 0, ignore_index=True)\n",
    "    result.columns = ['FACTOR','MAX','MIN','MEDIAN','%75 Perc','95% Perc']\n",
    "    \n",
    "    if 'equity_to_asset_ratio' in result['FACTOR']:\n",
    "        result.iloc[result['FACTOR'] == 'equity_to_asset_ratio',0] == 'leverage rate'\n",
    "    \n",
    "    return result\n",
    "    \n",
    "# 分析各指标的最大值在各年度对应的股票名称，杠杆率的分析应该没啥意义，杠杆率越高一般越不好\n",
    "def analysis_max_fac(maxv):\n",
    "    \n",
    "    all_info = get_all_securities()\n",
    "    # 得出每年最大值对应股票和相关数据\n",
    "    for key in maxv:\n",
    "        maxv[key]\n",
    "    \n",
    "    maxv = maxv.join(on='code')\n",
    "    return\n",
    "    "
   ]
  },
  {
   "cell_type": "code",
   "execution_count": null,
   "metadata": {},
   "outputs": [],
   "source": [
    "ran = np.arange(-0.5,1,0.02)\n",
    "cnt = plt.hist(values_list['roe_ttm'], bins=ran,density=True)"
   ]
  },
  {
   "cell_type": "code",
   "execution_count": null,
   "metadata": {},
   "outputs": [],
   "source": [
    "aaa = analysis_fac(values_list)\n",
    "aaa"
   ]
  },
  {
   "cell_type": "markdown",
   "metadata": {},
   "source": [
    "### 结果分析\n",
    "1. ROE\n",
    "\n",
    "2. 净利润率\n",
    "\n",
    "3. 杠杆率\n",
    "\n",
    "4. 总资产周转率\n",
    "\n",
    "4个指标的分布总体上都服从正态分布，但分布范围都及其广，ROE最高能有1000多，也就是100000%，这是我统计之前没想到的，但中位数是6%，另外95%分位数是，也就是说假设市场上只有5%值得投资的公司，那它的ROE门槛应该在XX，其实真实的门槛还要降，以剔除各年度的妖怪值。"
   ]
  },
  {
   "cell_type": "code",
   "execution_count": null,
   "metadata": {},
   "outputs": [],
   "source": [
    "analysis_max_fac\n"
   ]
  },
  {
   "cell_type": "markdown",
   "metadata": {},
   "source": [
    "### 极值分析\n",
    "粗略看一下15年间ROE的极值对应的公司，及其杜邦分析的几个指标\n",
    "总的看，xxx\n",
    "其中xxx股票xxx，其10年平均roe是多少，观察是否有极值roe和均值roe的明显背离\n",
    "所以，极值都\n"
   ]
  },
  {
   "cell_type": "code",
   "execution_count": null,
   "metadata": {},
   "outputs": [],
   "source": [
    "def get_avg_roe():\n",
    "    "
   ]
  },
  {
   "cell_type": "markdown",
   "metadata": {},
   "source": [
    "### 总结\n",
    "优秀的公司，它的ROE应该如何，应该像茅台一样，持续多年20%以上，已经非常不易，幻想一个公司在不增发的情况下能维持xxx速度的增长非常不现实"
   ]
  },
  {
   "cell_type": "markdown",
   "metadata": {},
   "source": [
    "### BUG\n",
    "1. get_trade_days只对2005年及以后有效\n",
    "    > date = '2005-5-15' \n",
    "    > date = get_trade_days(end_date = date, count = 1)\n",
    "    > date\n",
    "    > None\n",
    "2. factor支持的查询最大数量是3000，也就是股票数*日期数*因子数，单次不能超过3000"
   ]
  }
 ],
 "metadata": {
  "kernelspec": {
   "display_name": "Python 3",
   "language": "python",
   "name": "python3"
  },
  "language_info": {
   "codemirror_mode": {
    "name": "ipython",
    "version": 3
   },
   "file_extension": ".py",
   "mimetype": "text/x-python",
   "name": "python",
   "nbconvert_exporter": "python",
   "pygments_lexer": "ipython3",
   "version": "3.6.7"
  },
  "toc": {
   "base_numbering": 1,
   "nav_menu": {},
   "number_sections": false,
   "sideBar": true,
   "skip_h1_title": false,
   "title_cell": "MarkDown菜单",
   "title_sidebar": "Contents",
   "toc_cell": false,
   "toc_position": {},
   "toc_section_display": true,
   "toc_window_display": false
  }
 },
 "nbformat": 4,
 "nbformat_minor": 2
}
