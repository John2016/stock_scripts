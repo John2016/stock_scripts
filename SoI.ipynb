{
 "cells": [
  {
   "cell_type": "markdown",
   "metadata": {},
   "source": [
    "Source of ideas"
   ]
  },
  {
   "cell_type": "markdown",
   "metadata": {},
   "source": [
    "## 理论\n",
    "- 东方证券-因子选股系列研究\n",
    "- fama-french 三因子模型"
   ]
  },
  {
   "cell_type": "markdown",
   "metadata": {},
   "source": [
    "## 基本面选股指标梳理\n",
    "### 成长类\n",
    "- 营收5年复合增长率\n",
    "- 分红5年复合增长率\n",
    "- eps5年复合增长率\n",
    "- roe 5年中位数、均值\n",
    "\n",
    "\n",
    "### 质量类\n",
    "- 股息率>1.5\n",
    "\n",
    "- 自由现金流\n",
    "- 股息率大于4%而增长率大于10%\n",
    "- 普通股东roe和少数股东roe的差值\n",
    "- 毛利率大于20%，财务费用占利润比例小于10%\n",
    "- 一些指标的相关关系:毛利率，净利率，负债率，roe，分红率\n",
    "- （股价--（每股现金-每股长期负债））/每股收益=真正的市盈率，真正的市盈率越低越好\n",
    "- 收益增长率+股息率）*100/市盈率=A。A最好大于1，越大越好，若小于1，这只股票就比较差\n",
    "- **货币资金/市值**，越大越好，可以考虑加入交易性金融资产、结构性存款等"
   ]
  },
  {
   "cell_type": "code",
   "execution_count": null,
   "metadata": {},
   "outputs": [],
   "source": [
    "## 可用于取得实时信息的函数\n",
    "\n",
    "## 获取现金市值比\n",
    "def cash_per_stock(sk_list=[]):\n",
    "    if len(sk_list == 0):\n",
    "        ## return the top50 stocks from the sorted frame\n",
    "        \n",
    "    else:\n",
    "        ## return the related value of sk_list\n",
    "        \n",
    "        \n",
    "    # get cash from the latest financial statement\n",
    "    \n",
    "    # get the latest market capitalization\n",
    "    \n",
    "    return\n",
    "\n",
    "\n",
    "def get_cagr5_eps(sk_list=[]):\n",
    "    \n",
    "    return \n",
    "    \n",
    "def get_cagr5_dividen(sk_list=[]):\n",
    "    \n",
    "    return\n",
    "\n",
    "def get_cagr5_revenue(sk_list=[]):\n",
    "    \n",
    "    return\n",
    "\n",
    "def get_median_roe(sk_list):\n",
    "    \n",
    "    ## get the median and mean value of ROEs in the latest 5 years\n",
    "    \n",
    "    return\n",
    "\n",
    "def get_dist_roe():\n",
    "    \n",
    "    ## get the gap between ROEs\n",
    "    ## 用于判断明股实债风险\n",
    "    \n",
    "    return\n",
    "    \n",
    "def check_before_buy(stocks):\n",
    "    # 底线指标\n",
    "    \n",
    "    # 01:cagr5_revenue > 10%\n",
    "    ## 设置条件鉴别cagr4，以剔除2020年异常的影响\n",
    "    \n",
    "    # 02:mean_roe > 10\n",
    "    \n",
    "    # 03:dividen-ttm/price > 0.5%\n",
    "    ## 暗含条件是30pe，15%分红率\n",
    "    \n",
    "    # 04：increase_year < 200% and increase_month < 100%\n",
    "    ## 排除短期涨幅过大的股票\n",
    "    \n",
    "    return"
   ]
  },
  {
   "cell_type": "code",
   "execution_count": null,
   "metadata": {},
   "outputs": [],
   "source": [
    "## functions、 factors、 APIs\n",
    "\n",
    "#获取股票510300.XSHG2015年1月的日级交易数据\n",
    "df = get_price('510300.XSHG', start_date='2014-01-01', end_date='2015-01-31', frequency='daily', fields=['open','close']) \n",
    "df"
   ]
  },
  {
   "cell_type": "code",
   "execution_count": 4,
   "metadata": {},
   "outputs": [
    {
     "data": {
      "text/html": [
       "<div>\n",
       "<style scoped>\n",
       "    .dataframe tbody tr th:only-of-type {\n",
       "        vertical-align: middle;\n",
       "    }\n",
       "\n",
       "    .dataframe tbody tr th {\n",
       "        vertical-align: top;\n",
       "    }\n",
       "\n",
       "    .dataframe thead th {\n",
       "        text-align: right;\n",
       "    }\n",
       "</style>\n",
       "<table border=\"1\" class=\"dataframe\">\n",
       "  <thead>\n",
       "    <tr style=\"text-align: right;\">\n",
       "      <th>code</th>\n",
       "      <th>000001.XSHE</th>\n",
       "    </tr>\n",
       "  </thead>\n",
       "  <tbody>\n",
       "    <tr>\n",
       "      <th>2017-01-03</th>\n",
       "      <td>0.115241</td>\n",
       "    </tr>\n",
       "    <tr>\n",
       "      <th>2017-03-17</th>\n",
       "      <td>0.111782</td>\n",
       "    </tr>\n",
       "    <tr>\n",
       "      <th>2017-04-24</th>\n",
       "      <td>0.109402</td>\n",
       "    </tr>\n",
       "    <tr>\n",
       "      <th>2017-08-11</th>\n",
       "      <td>0.108113</td>\n",
       "    </tr>\n",
       "    <tr>\n",
       "      <th>2017-10-23</th>\n",
       "      <td>0.105602</td>\n",
       "    </tr>\n",
       "    <tr>\n",
       "      <th>2018-03-15</th>\n",
       "      <td>0.104430</td>\n",
       "    </tr>\n",
       "    <tr>\n",
       "      <th>2018-04-20</th>\n",
       "      <td>0.105510</td>\n",
       "    </tr>\n",
       "    <tr>\n",
       "      <th>2018-08-16</th>\n",
       "      <td>0.105229</td>\n",
       "    </tr>\n",
       "    <tr>\n",
       "      <th>2018-10-24</th>\n",
       "      <td>0.104119</td>\n",
       "    </tr>\n",
       "    <tr>\n",
       "      <th>2019-03-07</th>\n",
       "      <td>0.103390</td>\n",
       "    </tr>\n",
       "    <tr>\n",
       "      <th>2019-04-24</th>\n",
       "      <td>0.102292</td>\n",
       "    </tr>\n",
       "    <tr>\n",
       "      <th>2019-08-08</th>\n",
       "      <td>0.104632</td>\n",
       "    </tr>\n",
       "    <tr>\n",
       "      <th>2019-10-22</th>\n",
       "      <td>0.097139</td>\n",
       "    </tr>\n",
       "    <tr>\n",
       "      <th>2020-02-14</th>\n",
       "      <td>0.090085</td>\n",
       "    </tr>\n",
       "  </tbody>\n",
       "</table>\n",
       "</div>"
      ],
      "text/plain": [
       "code        000001.XSHE\n",
       "2017-01-03     0.115241\n",
       "2017-03-17     0.111782\n",
       "2017-04-24     0.109402\n",
       "2017-08-11     0.108113\n",
       "2017-10-23     0.105602\n",
       "2018-03-15     0.104430\n",
       "2018-04-20     0.105510\n",
       "2018-08-16     0.105229\n",
       "2018-10-24     0.104119\n",
       "2019-03-07     0.103390\n",
       "2019-04-24     0.102292\n",
       "2019-08-08     0.104632\n",
       "2019-10-22     0.097139\n",
       "2020-02-14     0.090085"
      ]
     },
     "execution_count": 4,
     "metadata": {},
     "output_type": "execute_result"
    }
   ],
   "source": [
    "## for test\n",
    "from jqfactor import *\n",
    "\n",
    "factor_data = get_factor_values(securities=['000001.XSHE'], factors=['roe_ttm','roa_ttm'], start_date='2017-01-01', end_date='2020-03-04')\n",
    "# 查看因子值\n",
    "factor_data['roe_ttm'].drop_duplicates()"
   ]
  },
  {
   "cell_type": "code",
   "execution_count": 3,
   "metadata": {},
   "outputs": [
    {
     "name": "stdout",
     "output_type": "stream",
     "text": [
      "0\n",
      "1\n",
      "2\n",
      "3\n"
     ]
    }
   ],
   "source": [
    "for ii in range(4):\n",
    "    print(ii)"
   ]
  },
  {
   "cell_type": "code",
   "execution_count": 6,
   "metadata": {},
   "outputs": [],
   "source": [
    "money = [156, 306, 142, 113]\n",
    "year = [10, 5, 2, 1]\n",
    "thresh = [0.03,0.20]\n",
    "\n",
    "while():\n",
    "    roe = mean(thresh)\n",
    "    print(roe)\n",
    "    tmp = 0\n",
    "    for ii in range(4):\n",
    "        tmp += money[ii]*((1+roe)**year[ii])\n",
    "    #sub = tmp - 1600\n",
    "    if abs(tmp-1600) < 50:\n",
    "        print(tmp-1600)\n",
    "        break\n",
    "    \n",
    "    if tmp > 1600:\n",
    "        thresh[1] = roe\n",
    "    else:\n",
    "        thresh[0] = roe\n"
   ]
  },
  {
   "cell_type": "code",
   "execution_count": 7,
   "metadata": {},
   "outputs": [
    {
     "ename": "NameError",
     "evalue": "name 'tmp' is not defined",
     "output_type": "error",
     "traceback": [
      "\u001b[0;31m---------------------------------------------------------------------------\u001b[0m",
      "\u001b[0;31mNameError\u001b[0m                                 Traceback (most recent call last)",
      "\u001b[0;32m<ipython-input-7-52a35c59c6f2>\u001b[0m in \u001b[0;36m<module>\u001b[0;34m\u001b[0m\n\u001b[0;32m----> 1\u001b[0;31m \u001b[0mtmp\u001b[0m\u001b[0;34m\u001b[0m\u001b[0;34m\u001b[0m\u001b[0m\n\u001b[0m",
      "\u001b[0;31mNameError\u001b[0m: name 'tmp' is not defined"
     ]
    }
   ],
   "source": [
    "tmp"
   ]
  },
  {
   "cell_type": "markdown",
   "metadata": {},
   "source": [
    "## 技术面想法\n",
    "- 横盘期择机买入，突破后按均线操作\n",
    "- 港资对某一只股票的滚动买入成本\n",
    "- 股东人数变化与当期涨跌幅的关系，股价涨跌幅与披露后下一期涨跌幅关系\n",
    "- 元月效应，二月效应，等等\n",
    "- 新股第一阶段底部与其估值的关系\n",
    "- 连续多个长上影线半个月内的走势是不是会下降\n",
    "- 追踪明星机构新进持仓，在现价低于计算其持仓价格时买入，在现价高于其计算清仓价格时卖出\n",
    "- 技术面上一些值得关注的现象\n",
    "- 下跌过程中进入横盘\n",
    "- 下跌过程中放出巨量\n",
    "- 连续多日，上涨时放量下跌缩量\n",
    "- 上涨初期，连续三日逐渐放量"
   ]
  },
  {
   "cell_type": "markdown",
   "metadata": {},
   "source": [
    "## 套利\n",
    "- AH套利验证\n",
    "- 搬砖策略"
   ]
  },
  {
   "cell_type": "markdown",
   "metadata": {},
   "source": [
    "## 宏观与大盘\n",
    "- 在我们团队内部，一般会关注以下几个反映市场情绪的指标：离岸人民币的汇率；两市总的交易量；上证50、沪深300、中小板、创业板、科创板的成交量；权重股的换手率；两融余额；公募基金的周募集金额等等。"
   ]
  },
  {
   "cell_type": "markdown",
   "metadata": {},
   "source": [
    "## 其它\n",
    "- 在今天信用债市场冲击金融股的时候，我们应该提前根据质押，保荐，承销等关系，构建各上市公司，大型集团与重要金融机构间的关系，并判定各金融机构的风险大小\n",
    "- 股权激励次数，指标，规模统计排序\n",
    "- 股东及董监高增减持行为及价格统计\n",
    "- 员工年龄结构\n",
    "- 计算稳定性的函数，用于计算可以长期参考的锚\n",
    "- 将交易者化为有限元，量化其“坚强”程度，应对消息上的突变，类似于一个更复杂的筹码系统\n",
    "- 股票日k图上，将股息率大于某一个指标的部分都显示出来，直观表示胜率\n",
    "- 资产负债表中有客户关系作为无形资产的公司，关注财务方面人员\n",
    "- 高管变动最小的公司，近期变动大的公司"
   ]
  },
  {
   "cell_type": "markdown",
   "metadata": {},
   "source": [
    "\n",
    "\n",
    "\n",
    "- 存货增长，应收增长与营收增长的匹配度"
   ]
  },
  {
   "cell_type": "markdown",
   "metadata": {},
   "source": [
    "## 量化方法评价方法\n",
    "- 聚宽指标评价：收益率、复合收益率、夏普、剔除风格影响等\n",
    "- 其它指标：最大回撤、换手率等\n",
    "- 在符合条件的股票中，采用最大n值与随机挑选n个来同时回测，可以观察策略的具体贡献来源\n",
    "- more"
   ]
  },
  {
   "cell_type": "markdown",
   "metadata": {},
   "source": [
    "量化\n"
   ]
  }
 ],
 "metadata": {
  "kernelspec": {
   "display_name": "Python 3",
   "language": "python",
   "name": "python3"
  },
  "language_info": {
   "codemirror_mode": {
    "name": "ipython",
    "version": 3
   },
   "file_extension": ".py",
   "mimetype": "text/x-python",
   "name": "python",
   "nbconvert_exporter": "python",
   "pygments_lexer": "ipython3",
   "version": "3.6.7"
  },
  "toc": {
   "base_numbering": 1,
   "nav_menu": {},
   "number_sections": false,
   "sideBar": true,
   "skip_h1_title": false,
   "title_cell": "MarkDown菜单",
   "title_sidebar": "Contents",
   "toc_cell": false,
   "toc_position": {},
   "toc_section_display": true,
   "toc_window_display": false
  }
 },
 "nbformat": 4,
 "nbformat_minor": 2
}
